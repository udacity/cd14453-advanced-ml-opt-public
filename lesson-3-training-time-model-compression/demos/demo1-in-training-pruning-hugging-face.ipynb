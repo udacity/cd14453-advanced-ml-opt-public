{
 "cells": [
  {
   "cell_type": "markdown",
   "id": "intro_pruning_demo",
   "metadata": {},
   "source": [
    "# Demo: Discover gradual magnitude pruning for small language model training\n",
    "\n",
    "In-training pruning integrates the pruning process directly into the model's training or fine-tuning phase. This allows the model to adapt to the removal of weights, often leading to better performance recovery compared to post-training pruning, especially when higher sparsity levels are desired.\n",
    "\n",
    "> **Overview**: We'll apply gradual magnitude pruning during fine-tuning of a pre-trained language model. This technique removes weights progressively while the model learns to compensate for their absence.\n",
    "> \n",
    "> **Goal**: Learn how to implement iterative pruning during training, allowing models to co-adapt to sparsity and task requirements simultaneously—achieving better compression-accuracy tradeoffs than post-training methods.\n",
    "> \n",
    "> **Scenario**: Imagine that you are developing a customer feedback analysis system for a retail chain (same as Lesson 2). The system processes product reviews and social media mentions to extract sentiment in real-time across thousands of stores. Your current DistilBERT model performs excellently on the cloud, but you need now to expand to edge devices in 10,000 stores! And, you are running in two critical issues:\n",
    "> <br> - _Limited memory on store kiosks_\n",
    "> <br> - _Processors with sparse tensors support but no GPU acceleration on store kiosks_\n",
    "> \n",
    "> Post-training pruning achieved only 84% accuracy at 30% sparsity—below your 90% threshold. Since you have access to customer review data and can afford retraining time, gradual magnitude pruning during fine-tuning offers a better path. By carefully ramping up sparsity during training, the model maintains 92% accuracy even at 50% sparsity, meeting both efficiency and accuracy requirements.\n",
    "> \n",
    "> **Tools**: PyTorch, Hugging Face Transformers, Evaluate, Datasets, NumPy, Matplotlib"
   ]
  },
  {
   "cell_type": "markdown",
   "id": "setup_pruning_demo_title",
   "metadata": {},
   "source": [
    "## Step 1: Setup\n",
    "Let's begin by importing necessary libraries and setting up our environment with better configuration for stable pruning."
   ]
  },
  {
   "cell_type": "code",
   "execution_count": 1,
   "id": "pip_install_pruning_demo",
   "metadata": {},
   "outputs": [],
   "source": [
    "# # Uncomment to install necessary libraries, then comment out the cell block again and restart the notebook\n",
    "# !pip install transformers datasets torch torchvision torchaudio accelerate evaluate scikit-learn matplotlib tqdm"
   ]
  },
  {
   "cell_type": "code",
   "execution_count": 2,
   "id": "imports_pruning_demo",
   "metadata": {},
   "outputs": [
    {
     "name": "stderr",
     "output_type": "stream",
     "text": [
      "/home/student/.local/lib/python3.10/site-packages/tqdm/auto.py:21: TqdmWarning: IProgress not found. Please update jupyter and ipywidgets. See https://ipywidgets.readthedocs.io/en/stable/user_install.html\n",
      "  from .autonotebook import tqdm as notebook_tqdm\n"
     ]
    },
    {
     "name": "stdout",
     "output_type": "stream",
     "text": [
      "Using device: cuda\n",
      "Setup complete!\n"
     ]
    }
   ],
   "source": [
    "# Import necessary libraries \n",
    "import torch\n",
    "import numpy as np\n",
    "import matplotlib.pyplot as plt\n",
    "import time\n",
    "import os\n",
    "from copy import deepcopy\n",
    "\n",
    "from transformers import AutoModelForSequenceClassification, AutoTokenizer, TrainingArguments, Trainer\n",
    "from transformers.optimization import get_cosine_schedule_with_warmup\n",
    "from torch.optim import AdamW\n",
    "from torch.utils.data import DataLoader\n",
    "from datasets import load_dataset\n",
    "import evaluate\n",
    "\n",
    "from tqdm.auto import tqdm\n",
    "\n",
    "# For neural network pruning with PyTorch\n",
    "import torch.nn.utils.prune as prune\n",
    "\n",
    "# Set seed for reproducibility\n",
    "torch.manual_seed(42)\n",
    "np.random.seed(42)\n",
    "\n",
    "# Use GPU if available\n",
    "device = torch.device(\"cuda\" if torch.cuda.is_available() else \"cpu\")\n",
    "print(f\"Using device: {device}\")\n",
    "\n",
    "# Create output directory\n",
    "output_dir = \"assets/demo1\"\n",
    "if not os.path.exists(output_dir):\n",
    "    os.makedirs(output_dir)\n",
    "    \n",
    "print(\"Setup complete!\")"
   ]
  },
  {
   "cell_type": "markdown",
   "id": "setup_pruning_demo_popup",
   "metadata": {
    "tags": [
     "popup"
    ]
   },
   "source": [
    "> **Environment setup**: This demo uses Hugging Face's ecosystem for transformer models (`transformers`), dataset handling (`datasets`), and evaluation metrics (`evaluate`). PyTorch provides the underlying neural network operations and pruning utilities. Finally, the `accelerate` library can be used to ensure efficient training even on limited hardware.\n",
    "> <br> Also, we set deterministic seeds to ensure reproducible results across runs and device detection ensures we use GPU acceleration when available, which is crucial for transformer fine-tuning."
   ]
  },
  {
   "cell_type": "markdown",
   "id": "load_data_pruning_demo_title",
   "metadata": {},
   "source": [
    "## Step 2: Load the model, tokenizer, and dataset\n",
    "\n",
    "We'll use a smaller pre-trained model like DistilBERT fine-tuned on a sentiment analysis task (e.g., SST-2) as a starting point. This is the same as for Lesson 2's pruning exercise, but with a more carefully curated training dataset."
   ]
  },
  {
   "cell_type": "code",
   "execution_count": 3,
   "id": "load_data_pruning_demo_code",
   "metadata": {},
   "outputs": [
    {
     "name": "stderr",
     "output_type": "stream",
     "text": [
      "Generating train split: 100%|██████████| 67349/67349 [00:00<00:00, 1568909.64 examples/s]\n",
      "Generating validation split: 100%|██████████| 872/872 [00:00<00:00, 283170.73 examples/s]\n",
      "Generating test split: 100%|██████████| 1821/1821 [00:00<00:00, 451514.99 examples/s]\n",
      "Map: 100%|██████████| 67349/67349 [00:06<00:00, 11218.52 examples/s]\n",
      "Map: 100%|██████████| 872/872 [00:00<00:00, 9789.18 examples/s]\n",
      "Map: 100%|██████████| 1821/1821 [00:00<00:00, 9976.65 examples/s] \n"
     ]
    },
    {
     "name": "stdout",
     "output_type": "stream",
     "text": [
      "Model: distilbert-base-uncased-finetuned-sst-2-english\n",
      "Training samples: 2000\n",
      "Evaluation samples: 400\n"
     ]
    }
   ],
   "source": [
    "# Load pre-trained model and tokenizer\n",
    "model_checkpoint = \"distilbert-base-uncased-finetuned-sst-2-english\"\n",
    "tokenizer = AutoTokenizer.from_pretrained(model_checkpoint)\n",
    "\n",
    "# Load the dataset (SST-2 for sentiment analysis)\n",
    "raw_datasets = load_dataset(\"glue\", \"sst2\")\n",
    "\n",
    "# Tokenize datasets\n",
    "def tokenize_function(examples):\n",
    "    return tokenizer(examples[\"sentence\"], padding=\"max_length\", truncation=True, max_length=128)\n",
    "\n",
    "tokenized_datasets = raw_datasets.map(tokenize_function, batched=True)\n",
    "tokenized_datasets = tokenized_datasets.remove_columns([\"sentence\", \"idx\"])\n",
    "tokenized_datasets = tokenized_datasets.rename_column(\"label\", \"labels\")\n",
    "tokenized_datasets.set_format(\"torch\")\n",
    "\n",
    "# Create moderate-sized datasets for better pruning stability\n",
    "train_dataset = tokenized_datasets[\"train\"].shuffle(seed=42).select(range(2000))  # Larger than before\n",
    "eval_dataset = tokenized_datasets[\"validation\"].shuffle(seed=42).select(range(400))\n",
    "\n",
    "print(f\"Model: {model_checkpoint}\")\n",
    "print(f\"Training samples: {len(train_dataset)}\")\n",
    "print(f\"Evaluation samples: {len(eval_dataset)}\")"
   ]
  },
  {
   "cell_type": "markdown",
   "id": "load_data_pruning_demo_popup",
   "metadata": {
    "tags": [
     "popup"
    ]
   },
   "source": [
    "> **Data preparation strategy**: We're working with SST-2, a dataset of movie reviews labeled as positive or negative sentiment. For this demo, we use 1,000 training examples to keep things fast—in production, you'd use your full customer review dataset. \n",
    "> <br> For the data processing, the AutoTokenizer automatically handles converting text into numbers that our model can process, including special tokens and vocabulary specific to DistilBERT. Then, we pad all sequences to 128 tokens to ensure uniform input sizes for batch processing, and shuffle the data so the model learns general patterns rather than memorizing the order of reviews.\n",
    "> \n",
    "> In real-world deployment, you'd typically use dynamic padding for efficiency and ensure your tokenizer matches the one used during training to maintain consistency."
   ]
  },
  {
   "cell_type": "markdown",
   "id": "baseline_model_pruning_demo_title",
   "metadata": {},
   "source": [
    "## Step 3: Establish baseline performance\n",
    "Let's measure the baseline performance on key metrics: accuracy, model size, and inference speed.\n",
    "\n",
    "Note that we'll defer the inference speed test until we can run both models back-to-back. This minimizes variability from system resources and gives us a fairer comparison."
   ]
  },
  {
   "cell_type": "code",
   "execution_count": 4,
   "id": "4e636e57",
   "metadata": {},
   "outputs": [],
   "source": [
    "# Compute accuracy metrics from predictions\n",
    "def compute_metrics(eval_pred):\n",
    "    logits_or_preds, labels = eval_pred\n",
    "\n",
    "    # Convert to NumPy arrays\n",
    "    predictions = np.array(logits_or_preds)\n",
    "    labels = np.array(labels)\n",
    "    \n",
    "    # If preds are logits (2D), apply argmax\n",
    "    if predictions.ndim > 1:\n",
    "        predictions = np.argmax(logits_or_preds, axis=-1)\n",
    "    \n",
    "    # Convert to lists for the evaluate library\n",
    "    predictions_list = predictions.tolist() if hasattr(predictions, 'tolist') else list(predictions)\n",
    "    labels_list = labels.tolist() if hasattr(labels, 'tolist') else list(labels)\n",
    "    \n",
    "    accuracy = accuracy_metric.compute(predictions=predictions_list, references=labels_list)[\"accuracy\"]\n",
    "    f1 = f1_metric.compute(predictions=predictions_list, references=labels_list, average=\"weighted\")[\"f1\"]\n",
    "    return {\"accuracy\": accuracy, \"f1\": f1}\n",
    "\n",
    "# Calculate model size and parameters\n",
    "def get_model_size_mb(model):\n",
    "    param_size = sum(p.nelement() * p.element_size() for p in model.parameters())\n",
    "    buffer_size = sum(b.nelement() * b.element_size() for b in model.buffers())\n",
    "    return (param_size + buffer_size) / (1024 * 1024)\n",
    "\n",
    "# Measure inference speed \n",
    "def measure_inference_speed(model, dataloader, num_samples=100):\n",
    "    model.eval()\n",
    "    times = []\n",
    "    \n",
    "    with torch.no_grad():\n",
    "        for i, batch in enumerate(dataloader):\n",
    "            if i >= num_samples:\n",
    "                break\n",
    "            \n",
    "            batch = {k: v.to(device) for k, v in batch.items()}\n",
    "            \n",
    "            # Warm up\n",
    "            if i == 0:\n",
    "                for _ in range(5):\n",
    "                    _ = model(**batch)\n",
    "            \n",
    "            # Time the forward pass\n",
    "            torch.cuda.synchronize() if torch.cuda.is_available() else None\n",
    "            \n",
    "            start_time = time.time()\n",
    "            _ = model(**batch)\n",
    "            torch.cuda.synchronize() if torch.cuda.is_available() else None\n",
    "            end_time = time.time()\n",
    "            \n",
    "            times.append(end_time - start_time)\n",
    "    \n",
    "    return np.mean(times[1:]), np.std(times[1:])  # Exclude first timing"
   ]
  },
  {
   "cell_type": "code",
   "execution_count": 5,
   "id": "baseline_model_pruning_demo_code",
   "metadata": {},
   "outputs": [
    {
     "name": "stderr",
     "output_type": "stream",
     "text": [
      "Downloading builder script: 100%|██████████| 4.20k/4.20k [00:00<00:00, 14.6MB/s]\n",
      "Downloading builder script: 100%|██████████| 6.79k/6.79k [00:00<00:00, 13.7MB/s]\n",
      "/tmp/ipykernel_76/2086735421.py:18: FutureWarning: `tokenizer` is deprecated and will be removed in version 5.0.0 for `Trainer.__init__`. Use `processing_class` instead.\n",
      "  trainer = Trainer(\n"
     ]
    },
    {
     "name": "stdout",
     "output_type": "stream",
     "text": [
      "Evaluating baseline model...\n"
     ]
    },
    {
     "data": {
      "text/html": [
       "\n",
       "    <div>\n",
       "      \n",
       "      <progress value='13' max='13' style='width:300px; height:20px; vertical-align: middle;'></progress>\n",
       "      [13/13 00:01]\n",
       "    </div>\n",
       "    "
      ],
      "text/plain": [
       "<IPython.core.display.HTML object>"
      ]
     },
     "metadata": {},
     "output_type": "display_data"
    },
    {
     "name": "stdout",
     "output_type": "stream",
     "text": [
      "Baseline metrics: Accuracy=0.9025, F1=0.9023\n",
      "Baseline model size: 255.42 MB\n",
      "Total parameters: 66,955,010\n"
     ]
    }
   ],
   "source": [
    "# Load model\n",
    "baseline_model = AutoModelForSequenceClassification.from_pretrained(model_checkpoint, num_labels=2)\n",
    "baseline_model = baseline_model.to(device)\n",
    "\n",
    "# Define evaluation metrics\n",
    "accuracy_metric = evaluate.load(\"accuracy\")\n",
    "f1_metric = evaluate.load(\"f1\")\n",
    "\n",
    "# Quick evaluation\n",
    "training_args = TrainingArguments(\n",
    "    output_dir=f\"{output_dir}/baseline_eval\",\n",
    "    per_device_eval_batch_size=32,\n",
    "    do_train=False,\n",
    "    do_eval=True,\n",
    "    report_to=[]\n",
    ")\n",
    "\n",
    "trainer = Trainer(\n",
    "    model=baseline_model,\n",
    "    args=training_args,\n",
    "    eval_dataset=eval_dataset,\n",
    "    compute_metrics=compute_metrics,\n",
    "    tokenizer=tokenizer\n",
    ")\n",
    "\n",
    "print(\"Evaluating baseline model...\")\n",
    "baseline_results = trainer.evaluate()\n",
    "print(f\"Baseline metrics: Accuracy={baseline_results['eval_accuracy']:.4f}, F1={baseline_results['eval_f1']:.4f}\")\n",
    "\n",
    "baseline_size = get_model_size_mb(baseline_model)\n",
    "total_params = sum(p.numel() for p in baseline_model.parameters())\n",
    "print(f\"Baseline model size: {baseline_size:.2f} MB\")\n",
    "print(f\"Total parameters: {total_params:,}\")"
   ]
  },
  {
   "cell_type": "markdown",
   "id": "baseline_model_pruning_demo_popup",
   "metadata": {
    "tags": [
     "popup"
    ]
   },
   "source": [
    "> **Baseline snapshot**: Our starting point shows solid performance—90.2% accuracy on sentiment analysis, which is quite good for this task! The model weighs in at 255MB with nearly 67 million parameters. This is typical for transformer models: excellent performance but hefty size. \n",
    "> \n",
    "> For edge devices with 512MB RAM, this would consume half the available memory just for the model weights—leaving little room for the actual application. This is exactly why we need compression techniques like pruning during training!"
   ]
  },
  {
   "cell_type": "markdown",
   "id": "pruning_config_demo_title",
   "metadata": {},
   "source": [
    "## Step 4: Configure the pruning strategy\n",
    "\n",
    "Now, let's define a pruning strategy with reasonable hyperparameters for the small dataset."
   ]
  },
  {
   "cell_type": "code",
   "execution_count": 6,
   "id": "pruning_config_demo_code",
   "metadata": {},
   "outputs": [],
   "source": [
    "# Improved pruning configuration\n",
    "target_sparsity = 0.5  # 50% sparsity\n",
    "pruning_frequency = 100\n",
    "num_epochs = 10\n",
    "learning_rate = 1e-5\n",
    "batch_size = 16\n",
    "warmup_ratio = 0.1\n",
    "\n",
    "# Identify layers to prune with sensitivity consideration\n",
    "def get_prunable_layers(model):\n",
    "    layers_to_prune_list = []\n",
    "    for name, module in model.named_modules():\n",
    "        if isinstance(module, torch.nn.Linear):\n",
    "            # Only prune attention weights, not all linear layers\n",
    "            if any(substr in name for substr in ['q_lin', 'k_lin', 'v_lin']):\n",
    "                layers_to_prune_list.append((module, 'weight'))\n",
    "    return layers_to_prune_list"
   ]
  },
  {
   "cell_type": "markdown",
   "id": "pruning_config_demo_popup",
   "metadata": {
    "tags": [
     "popup"
    ]
   },
   "source": [
    "> **Strategic layer selection**: We're targeting 50% sparsity but only in specific layers—the attention query, key, and value projections (q_lin, k_lin, v_lin). These layers are redundancy-rich but not critical for output, making them ideal pruning candidates. By leaving other layers untouched (like output projections and feed-forward networks), we preserve the model's core decision-making ability. \n",
    "> \n",
    "> Then, the gradual approach (100-step intervals over 10 epochs) gives the model ample time to adapt as weights disappear—like slowly removing training wheels rather than yanking them off!"
   ]
  },
  {
   "cell_type": "markdown",
   "id": "pruning_trainer_demo_title",
   "metadata": {},
   "source": [
    "## Step 5: Train the model with gradual pruning on a cubic schedule\n",
    "\n",
    "Now we'll implement the heart of training-time pruning: gradually removing weights while the model learns to compensate. \n",
    "\n",
    "While Hugging Face's `Trainer` supports callbacks, we'll use a custom training loop for explicit control over the pruning process."
   ]
  },
  {
   "cell_type": "code",
   "execution_count": 7,
   "id": "b088a1aa",
   "metadata": {},
   "outputs": [],
   "source": [
    "# Cubic sparsity schedule\n",
    "def cubic_sparsity_schedule(step, total_steps, initial_sparsity=0.0, final_sparsity=0.5, start_step=0, end_step=None):\n",
    "    \"\"\"Cubic sparsity increase schedule (3-phase: slow-fast-slow)\"\"\"\n",
    "    if end_step is None:\n",
    "        end_step = total_steps\n",
    "    \n",
    "    if step < start_step:\n",
    "        return initial_sparsity\n",
    "    elif step >= end_step:\n",
    "        return final_sparsity\n",
    "    else:\n",
    "        progress = (step - start_step) / (end_step - start_step)\n",
    "        # Cubic function that starts and ends slowly\n",
    "        sparsity_range = final_sparsity - initial_sparsity\n",
    "        return initial_sparsity + sparsity_range * (3 * progress**2 - 2 * progress**3)\n",
    "    \n",
    "# Make magnitude pruning implementation to be non-cumulative\n",
    "def apply_magnitude_pruning(model, layers_to_prune, target_sparsity):\n",
    "    \"\"\"Apply magnitude pruning to reach exact target sparsity\"\"\"\n",
    "    # First, remove any existing pruning\n",
    "    for module, param_name in layers_to_prune:\n",
    "        if hasattr(module, param_name + '_mask'):\n",
    "            prune.remove(module, param_name)\n",
    "    \n",
    "    # Apply fresh pruning to exact target\n",
    "    prune.global_unstructured(\n",
    "        layers_to_prune,\n",
    "        pruning_method=prune.L1Unstructured,\n",
    "        amount=target_sparsity\n",
    "    )\n",
    "    \n",
    "# Calculate sparsity\n",
    "def calculate_sparsity(model, layers):\n",
    "    \"\"\"Calculate actual sparsity in pruned layers\"\"\"\n",
    "    total_params = 0\n",
    "    zero_params = 0\n",
    "    for module, name in layers:\n",
    "        if hasattr(module, name + '_mask'):\n",
    "            mask = getattr(module, name + '_mask')\n",
    "            weight = getattr(module, name + '_orig')\n",
    "            current = weight * mask\n",
    "        else:\n",
    "            current = getattr(module, name)\n",
    "        zero_params += torch.sum(current == 0).item()\n",
    "        total_params += current.nelement()\n",
    "    return zero_params / total_params if total_params > 0 else 0.0\n",
    "\n",
    "# Evaluation during training\n",
    "def evaluate_during_training(model, dataloader, compute_metrics_fn):\n",
    "    model.eval()\n",
    "    total_loss = 0\n",
    "    all_preds = []\n",
    "    all_labels = []\n",
    "    \n",
    "    with torch.no_grad():\n",
    "        for batch in dataloader:\n",
    "            batch = {k: v.to(device) for k, v in batch.items()}\n",
    "            outputs = model(**batch)\n",
    "            total_loss += outputs.loss.item()\n",
    "            \n",
    "            logits = outputs.logits\n",
    "            predictions = torch.argmax(logits, dim=-1)\n",
    "            \n",
    "            # Convert to lists instead of numpy arrays\n",
    "            all_preds.extend(predictions.cpu().tolist())\n",
    "            all_labels.extend(batch['labels'].cpu().tolist())\n",
    "    \n",
    "    # Pass the data in the expected format\n",
    "    eval_pred = (all_preds, all_labels)\n",
    "    metrics = compute_metrics_fn(eval_pred)\n",
    "    model.train()\n",
    "    return metrics, total_loss / len(dataloader)"
   ]
  },
  {
   "cell_type": "markdown",
   "id": "8dcb4cb2",
   "metadata": {},
   "source": [
    "> **Choosing the right schedule**: The cubic schedule follows an S-curve: slow→fast→slow. This mimics how we learn—starting cautiously, making rapid progress once comfortable, then fine-tuning at the end. For pruning, this means:\n",
    "> - **Slow start (0-20%)**: Model learns which weights matter most\n",
    "> - **Acceleration (20-80%)**: Rapid pruning while model is adaptable\n",
    "> - **Slow finish (80-100%)**: Gentle final adjustments for stability\n",
    "> \n",
    "> Alternative schedules like linear or exponential can work, but cubic often gives the best accuracy retention."
   ]
  },
  {
   "cell_type": "code",
   "execution_count": 8,
   "id": "3c963ad6",
   "metadata": {},
   "outputs": [
    {
     "name": "stdout",
     "output_type": "stream",
     "text": [
      "Identified 18 layers for pruning (reduced from 36)\n",
      "Layer types selected for pruning:\n",
      "  - distilbert.transformer.layer.0.attention.q_lin\n",
      "  - distilbert.transformer.layer.0.attention.k_lin\n",
      "  - distilbert.transformer.layer.0.attention.v_lin\n",
      "  - distilbert.transformer.layer.1.attention.q_lin\n",
      "  - distilbert.transformer.layer.1.attention.k_lin\n",
      "  - distilbert.transformer.layer.1.attention.v_lin\n",
      "  - distilbert.transformer.layer.2.attention.q_lin\n",
      "  - distilbert.transformer.layer.2.attention.k_lin\n",
      "  - distilbert.transformer.layer.2.attention.v_lin\n",
      "  - distilbert.transformer.layer.3.attention.q_lin\n",
      "  - distilbert.transformer.layer.3.attention.k_lin\n",
      "  - distilbert.transformer.layer.3.attention.v_lin\n",
      "  - distilbert.transformer.layer.4.attention.q_lin\n",
      "  - distilbert.transformer.layer.4.attention.k_lin\n",
      "  - distilbert.transformer.layer.4.attention.v_lin\n",
      "  - distilbert.transformer.layer.5.attention.q_lin\n",
      "  - distilbert.transformer.layer.5.attention.k_lin\n",
      "  - distilbert.transformer.layer.5.attention.v_lin\n"
     ]
    }
   ],
   "source": [
    "# Setup pruning on a fresh model\n",
    "model_to_prune = AutoModelForSequenceClassification.from_pretrained(model_checkpoint, num_labels=2)\n",
    "model_to_prune = model_to_prune.to(device)\n",
    "layers_to_prune = get_prunable_layers(model_to_prune)\n",
    "\n",
    "print(f\"Identified {len(layers_to_prune)} layers for pruning (reduced from 36)\")\n",
    "print(\"Layer types selected for pruning:\")\n",
    "for name, module in model_to_prune.named_modules():\n",
    "    if any((module, 'weight') == layer for layer in layers_to_prune):\n",
    "        print(f\"  - {name}\")\n",
    "        if len([n for n, _ in model_to_prune.named_modules() if n.startswith(name)]) > 5:\n",
    "            print(\"    ...\")\n",
    "            break\n",
    "\n",
    "# Training setup with improved configuration\n",
    "train_dataloader = DataLoader(train_dataset, shuffle=True, batch_size=batch_size)\n",
    "num_training_steps = num_epochs * len(train_dataloader)\n",
    "num_warmup_steps = int(warmup_ratio * num_training_steps)\n",
    "\n",
    "optimizer = AdamW(model_to_prune.parameters(), lr=learning_rate, weight_decay=0.01)\n",
    "scheduler = get_cosine_schedule_with_warmup(\n",
    "    optimizer, \n",
    "    num_warmup_steps=num_warmup_steps, \n",
    "    num_training_steps=num_training_steps\n",
    ")\n",
    "\n",
    "# Initialize pruning infrastructure (0% to start)\n",
    "prune.global_unstructured(\n",
    "    layers_to_prune,\n",
    "    pruning_method=prune.L1Unstructured,\n",
    "    amount=0.0\n",
    ")"
   ]
  },
  {
   "cell_type": "markdown",
   "id": "61664537",
   "metadata": {},
   "source": [
    "> **Pruning infrastructure setup**: Starting with 0% pruning might seem odd, but it's crucial for proper tracking. This initialization:\n",
    "> - Creates weight masks for all target layers (initially all ones)\n",
    "> - Separates original weights from their masks internally\n",
    "> - Enables consistent sparsity calculation throughout training\n",
    "> - Ensures the pruning machinery is ready before training begins\n",
    "> \n",
    "> L1Unstructured pruning removes weights with smallest absolute values first—the assumption being that tiny weights contribute least to the model's decisions. Think of it as removing the quietest voices in a conversation first."
   ]
  },
  {
   "cell_type": "code",
   "execution_count": 9,
   "id": "pruning_trainer_demo_code",
   "metadata": {},
   "outputs": [
    {
     "name": "stdout",
     "output_type": "stream",
     "text": [
      "Starting gradual magnitude pruning with cubic schedule...\n"
     ]
    },
    {
     "name": "stderr",
     "output_type": "stream",
     "text": [
      "Epoch 1/10: 100%|██████████| 125/125 [00:19<00:00,  6.42it/s]\n"
     ]
    },
    {
     "name": "stdout",
     "output_type": "stream",
     "text": [
      "Epoch 1: Train Loss=0.0613, Eval Loss=0.4506, Eval Acc=0.8900, Eval F1=0.8900, LR=1.00e-05\n"
     ]
    },
    {
     "name": "stderr",
     "output_type": "stream",
     "text": [
      "Epoch 2/10: 100%|██████████| 125/125 [00:19<00:00,  6.32it/s, loss=0.0003, sparsity=0.9%, target=0.9%, lr=9.89e-06]\n"
     ]
    },
    {
     "name": "stdout",
     "output_type": "stream",
     "text": [
      "Epoch 2: Train Loss=0.0362, Eval Loss=0.5106, Eval Acc=0.8950, Eval F1=0.8949, LR=9.70e-06\n"
     ]
    },
    {
     "name": "stderr",
     "output_type": "stream",
     "text": [
      "Epoch 3/10: 100%|██████████| 125/125 [00:20<00:00,  6.21it/s, loss=0.0004, sparsity=4.6%, target=4.6%, lr=9.41e-06]\n"
     ]
    },
    {
     "name": "stdout",
     "output_type": "stream",
     "text": [
      "Epoch 3: Train Loss=0.0092, Eval Loss=0.5849, Eval Acc=0.8925, Eval F1=0.8925, LR=8.83e-06\n"
     ]
    },
    {
     "name": "stderr",
     "output_type": "stream",
     "text": [
      "Epoch 4/10: 100%|██████████| 125/125 [00:20<00:00,  6.05it/s, loss=0.0001, sparsity=17.6%, target=17.6%, lr=7.50e-06]\n"
     ]
    },
    {
     "name": "stdout",
     "output_type": "stream",
     "text": [
      "Epoch 4: Train Loss=0.0013, Eval Loss=0.6662, Eval Acc=0.9000, Eval F1=0.9000, LR=7.50e-06\n"
     ]
    },
    {
     "name": "stderr",
     "output_type": "stream",
     "text": [
      "Epoch 5/10: 100%|██████████| 125/125 [00:21<00:00,  5.94it/s, loss=0.0001, sparsity=25.5%, target=25.5%, lr=6.21e-06]\n"
     ]
    },
    {
     "name": "stdout",
     "output_type": "stream",
     "text": [
      "Epoch 5: Train Loss=0.0034, Eval Loss=0.6368, Eval Acc=0.9025, Eval F1=0.9024, LR=5.87e-06\n"
     ]
    },
    {
     "name": "stderr",
     "output_type": "stream",
     "text": [
      "Epoch 6/10: 100%|██████████| 125/125 [00:21<00:00,  5.93it/s, loss=0.0000, sparsity=33.4%, target=33.4%, lr=4.83e-06]\n"
     ]
    },
    {
     "name": "stdout",
     "output_type": "stream",
     "text": [
      "Epoch 6: Train Loss=0.0022, Eval Loss=0.6275, Eval Acc=0.9050, Eval F1=0.9049, LR=4.13e-06\n"
     ]
    },
    {
     "name": "stderr",
     "output_type": "stream",
     "text": [
      "Epoch 7/10: 100%|██████████| 125/125 [00:20<00:00,  6.01it/s, loss=0.0000, sparsity=40.5%, target=40.5%, lr=3.45e-06]\n"
     ]
    },
    {
     "name": "stdout",
     "output_type": "stream",
     "text": [
      "Epoch 7: Train Loss=0.0035, Eval Loss=0.6579, Eval Acc=0.9000, Eval F1=0.8998, LR=2.50e-06\n"
     ]
    },
    {
     "name": "stderr",
     "output_type": "stream",
     "text": [
      "Epoch 8/10: 100%|██████████| 125/125 [00:20<00:00,  5.98it/s, loss=0.0001, sparsity=49.4%, target=49.4%, lr=1.17e-06]\n"
     ]
    },
    {
     "name": "stdout",
     "output_type": "stream",
     "text": [
      "Epoch 8: Train Loss=0.0020, Eval Loss=0.6613, Eval Acc=0.9025, Eval F1=0.9023, LR=1.17e-06\n"
     ]
    },
    {
     "name": "stderr",
     "output_type": "stream",
     "text": [
      "Epoch 9/10: 100%|██████████| 125/125 [00:20<00:00,  5.98it/s, loss=0.0002, sparsity=50.0%, target=50.0%, lr=4.32e-07]\n"
     ]
    },
    {
     "name": "stdout",
     "output_type": "stream",
     "text": [
      "Epoch 9: Train Loss=0.0012, Eval Loss=0.6568, Eval Acc=0.9050, Eval F1=0.9048, LR=3.02e-07\n"
     ]
    },
    {
     "name": "stderr",
     "output_type": "stream",
     "text": [
      "Epoch 10/10: 100%|██████████| 125/125 [00:20<00:00,  5.97it/s, loss=0.0001, sparsity=50.0%, target=50.0%, lr=4.87e-08]\n"
     ]
    },
    {
     "name": "stdout",
     "output_type": "stream",
     "text": [
      "Epoch 10: Train Loss=0.0013, Eval Loss=0.6575, Eval Acc=0.9050, Eval F1=0.9048, LR=0.00e+00\n",
      "\n",
      "Training complete. Final sparsity: 50.00%\n"
     ]
    }
   ],
   "source": [
    "print(\"Starting gradual magnitude pruning with cubic schedule...\")\n",
    "model_to_prune.train()\n",
    "global_step = 0\n",
    "training_loss = []\n",
    "eval_metrics_history = []\n",
    "sparsity_history = []\n",
    "\n",
    "# Pruning starts after warmup and ends before final epoch\n",
    "pruning_start_step = num_warmup_steps\n",
    "pruning_end_step = int(0.85 * num_training_steps)\n",
    "\n",
    "for epoch in range(num_epochs):\n",
    "    epoch_loss = 0\n",
    "    progress_bar = tqdm(train_dataloader, desc=f\"Epoch {epoch+1}/{num_epochs}\")\n",
    "    \n",
    "    for batch in progress_bar:\n",
    "        # Move batch to device\n",
    "        batch = {k: v.to(device) for k, v in batch.items()}\n",
    "        \n",
    "        # Forward pass\n",
    "        outputs = model_to_prune(**batch)\n",
    "        loss = outputs.loss\n",
    "        epoch_loss += loss.item()\n",
    "        \n",
    "        # Backward pass\n",
    "        loss.backward()\n",
    "        torch.nn.utils.clip_grad_norm_(model_to_prune.parameters(), max_norm=1.0)\n",
    "        optimizer.step()\n",
    "        scheduler.step()\n",
    "        optimizer.zero_grad()\n",
    "        \n",
    "        global_step += 1\n",
    "        \n",
    "        # Apply gradual pruning with cubic schedule\n",
    "        if global_step % pruning_frequency == 0 and global_step >= pruning_start_step:\n",
    "            # Calculate current target sparsity using cubic schedule\n",
    "            current_sparsity = cubic_sparsity_schedule(\n",
    "                global_step, \n",
    "                num_training_steps, \n",
    "                initial_sparsity=0.0, \n",
    "                final_sparsity=target_sparsity,\n",
    "                start_step=pruning_start_step,\n",
    "                end_step=pruning_end_step\n",
    "            )\n",
    "            \n",
    "            # Apply fresh pruning (not cumulative)\n",
    "            apply_magnitude_pruning(model_to_prune, layers_to_prune, current_sparsity)\n",
    "            \n",
    "            # Track sparsity\n",
    "            actual_sparsity = calculate_sparsity(model_to_prune, layers_to_prune)\n",
    "            sparsity_history.append((global_step, actual_sparsity))\n",
    "            \n",
    "            # Update progress bar\n",
    "            progress_bar.set_postfix({\n",
    "                'loss': f'{loss.item():.4f}',\n",
    "                'sparsity': f'{actual_sparsity*100:.1f}%',\n",
    "                'target': f'{current_sparsity*100:.1f}%',\n",
    "                'lr': f'{scheduler.get_last_lr()[0]:.2e}'\n",
    "            })\n",
    "    \n",
    "    # End of epoch evaluation\n",
    "    training_loss.append(epoch_loss / len(train_dataloader))\n",
    "    eval_dataloader = DataLoader(eval_dataset, batch_size=32)\n",
    "    eval_metrics, eval_loss = evaluate_during_training(model_to_prune, eval_dataloader, compute_metrics)\n",
    "    eval_metrics_history.append(eval_metrics)\n",
    "    \n",
    "    print(f\"Epoch {epoch+1}: Train Loss={training_loss[-1]:.4f}, \"\n",
    "          f\"Eval Loss={eval_loss:.4f}, \"\n",
    "          f\"Eval Acc={eval_metrics['accuracy']:.4f}, \"\n",
    "          f\"Eval F1={eval_metrics['f1']:.4f}, \"\n",
    "          f\"LR={scheduler.get_last_lr()[0]:.2e}\")\n",
    "\n",
    "# Apply final pruning to reach exact target\n",
    "apply_magnitude_pruning(model_to_prune, layers_to_prune, target_sparsity)\n",
    "\n",
    "# Calculate final model sparsity\n",
    "final_sparsity = calculate_sparsity(model_to_prune, layers_to_prune)\n",
    "print(f\"\\nTraining complete. Final sparsity: {final_sparsity*100:.2f}%\")"
   ]
  },
  {
   "cell_type": "markdown",
   "id": "pruning_trainer_demo_popup",
   "metadata": {
    "tags": [
     "popup"
    ]
   },
   "source": [
    "> **Training dynamics analysis**: Watch how the model adapted during pruning:\n",
    "> - _**Accuracy resilience**_: Despite removing 50% of attention weights, accuracy stayed around 90%\n",
    "> - _**Loss fluctuations**_: Small spikes when pruning accelerated (epochs 4-7) followed by recovery\n",
    "> - _**Learning rate decay**_: Cosine schedule helped stabilize training as pruning intensified\n",
    "> - _**Final convergence**_: Model stabilized at target sparsity with minimal accuracy loss\n",
    "> \n",
    "> For production, consider: longer training, larger warmup period, or different learning rates for pruned vs unpruned layers."
   ]
  },
  {
   "cell_type": "markdown",
   "id": "eval_pruned_model_demo_title",
   "metadata": {},
   "source": [
    "## Step 6: Make pruning permanent\n",
    "\n",
    "After fine-tuning with pruning masks, we need to make these changes permanent in the model's weight tensors."
   ]
  },
  {
   "cell_type": "code",
   "execution_count": 10,
   "id": "eval_pruned_model_demo_code",
   "metadata": {},
   "outputs": [
    {
     "name": "stdout",
     "output_type": "stream",
     "text": [
      "Making pruning permanent for magnitude pruned model...\n"
     ]
    }
   ],
   "source": [
    "# Make pruning permanent\n",
    "print(\"Making pruning permanent for magnitude pruned model...\")\n",
    "for module, param_name in layers_to_prune:\n",
    "    if hasattr(module, param_name + '_mask'):\n",
    "        prune.remove(module, param_name)"
   ]
  },
  {
   "cell_type": "markdown",
   "id": "80859dfc",
   "metadata": {},
   "source": [
    "> **Permanent weight removal**: The prune.remove() operation converts temporary masks into permanent zero weights.\n",
    "> \n",
    "> Note that file size doesn't change for unstructured pruning—the model structure remains the same. The real benefits come from reduced FLOPs during inference, especially on hardware supporting sparse operations."
   ]
  },
  {
   "attachments": {},
   "cell_type": "markdown",
   "id": "d687e099",
   "metadata": {},
   "source": [
    "## Step 7: Evaluate model performance\n",
    "\n",
    "Finally, let's evaluate model performance and compare against baseline."
   ]
  },
  {
   "cell_type": "code",
   "execution_count": 11,
   "id": "1619f2ac",
   "metadata": {},
   "outputs": [
    {
     "name": "stdout",
     "output_type": "stream",
     "text": [
      "Pruned model size: 255.42 MB\n",
      "Final sparsity of pruned layers: 50.00%\n"
     ]
    },
    {
     "name": "stderr",
     "output_type": "stream",
     "text": [
      "/tmp/ipykernel_76/4065736787.py:19: FutureWarning: `tokenizer` is deprecated and will be removed in version 5.0.0 for `Trainer.__init__`. Use `processing_class` instead.\n",
      "  trainer_pruned = Trainer(\n"
     ]
    },
    {
     "name": "stdout",
     "output_type": "stream",
     "text": [
      "\n",
      "Evaluating final pruned model...\n"
     ]
    },
    {
     "data": {
      "text/html": [
       "\n",
       "    <div>\n",
       "      \n",
       "      <progress value='13' max='13' style='width:300px; height:20px; vertical-align: middle;'></progress>\n",
       "      [13/13 00:01]\n",
       "    </div>\n",
       "    "
      ],
      "text/plain": [
       "<IPython.core.display.HTML object>"
      ]
     },
     "metadata": {},
     "output_type": "display_data"
    },
    {
     "name": "stdout",
     "output_type": "stream",
     "text": [
      "Final metrics: Accuracy=0.9050, F1=0.9048\n",
      "\n",
      "Inference speed comparison:\n",
      "Baseline: 5.24 ± 0.14 ms\n",
      "Pruned: 5.32 ± 0.19 ms\n",
      "Speedup: -1.5%\n"
     ]
    }
   ],
   "source": [
    "# Calculate final statistics\n",
    "pruned_size = get_model_size_mb(model_to_prune)\n",
    "print(f\"Pruned model size: {pruned_size:.2f} MB\")\n",
    "\n",
    "# Calculate final sparsity after removal\n",
    "def calculate_final_sparsity_post_remove(model, layers_info):\n",
    "    total_params = 0\n",
    "    zero_params = 0\n",
    "    for module, name in layers_info:\n",
    "        weight = getattr(module, name)\n",
    "        total_params += weight.nelement()\n",
    "        zero_params += torch.sum(weight == 0).item()\n",
    "    return float(zero_params) / total_params if total_params > 0 else 0.0\n",
    "\n",
    "final_sparsity_after_remove = calculate_final_sparsity_post_remove(model_to_prune, layers_to_prune)\n",
    "print(f\"Final sparsity of pruned layers: {final_sparsity_after_remove*100:.2f}%\")\n",
    "\n",
    "# Full evaluation of the pruned model\n",
    "trainer_pruned = Trainer(\n",
    "    model=model_to_prune,\n",
    "    args=TrainingArguments(\n",
    "        output_dir=f\"{output_dir}/pruned_eval\",\n",
    "        per_device_eval_batch_size=32,\n",
    "        do_train=False,\n",
    "        do_eval=True,\n",
    "        report_to=[]\n",
    "    ),\n",
    "    eval_dataset=eval_dataset,\n",
    "    compute_metrics=compute_metrics,\n",
    "    tokenizer=tokenizer\n",
    ")\n",
    "\n",
    "print(\"\\nEvaluating final pruned model...\")\n",
    "pruned_results = trainer_pruned.evaluate()\n",
    "print(f\"Final metrics: Accuracy={pruned_results['eval_accuracy']:.4f}, F1={pruned_results['eval_f1']:.4f}\")\n",
    "\n",
    "# Compare inference speeds\n",
    "eval_dataloader = DataLoader(eval_dataset, batch_size=1)  # Single sample for latency\n",
    "baseline_time, baseline_std = measure_inference_speed(baseline_model, eval_dataloader)\n",
    "pruned_time, pruned_std = measure_inference_speed(model_to_prune, eval_dataloader)\n",
    "\n",
    "speedup = (baseline_time - pruned_time) / baseline_time * 100\n",
    "print(f\"\\nInference speed comparison:\")\n",
    "print(f\"Baseline: {baseline_time*1000:.2f} ± {baseline_std*1000:.2f} ms\")\n",
    "print(f\"Pruned: {pruned_time*1000:.2f} ± {pruned_std*1000:.2f} ms\")\n",
    "print(f\"Speedup: {speedup:.1f}%\")"
   ]
  },
  {
   "cell_type": "markdown",
   "id": "eval_pruned_model_demo_popup",
   "metadata": {
    "tags": [
     "popup"
    ]
   },
   "source": [
    "> **Why no speedup?** This is completely expected! Unstructured pruning creates randomly scattered zeros throughout weight matrices, but standard hardware (CPUs/GPUs) can't skip these zeros efficiently. They still load the full matrix and multiply by zero. The slight slowdown (-1.9%) comes from overhead in applying masks during inference.\n",
    ">\n",
    "> **Getting actual speedups requires**:\n",
    "> - Specialized hardware with sparse tensor cores (NVIDIA A100, Apple M1 Neural Engine)\n",
    "> - Sparse-aware inference libraries (DeepSparse, TensorRT, ONNX Runtime)\n",
    "> - Converting to true sparse format (CSR, CSC matrices)\n",
    ">\n",
    "> In production, you could export to ONNX and use sparse inference engines to realize the speed benefits."
   ]
  },
  {
   "cell_type": "markdown",
   "id": "conclusion_pruning_demo",
   "metadata": {},
   "source": [
    "## Conclusion\n",
    "\n",
    "Gradual magnitude pruning during training demonstrates the power of adaptation—by removing weights progressively while the model learns, we achieved 90.2% accuracy at 50% sparsity, significantly outperforming post-training methods. \n",
    "\n",
    "This technique showcases how training-time compression allows models to reorganize and compensate for removed connections, maintaining performance while reducing redundancy."
   ]
  },
  {
   "cell_type": "code",
   "execution_count": 15,
   "id": "final_summary_code",
   "metadata": {},
   "outputs": [
    {
     "name": "stdout",
     "output_type": "stream",
     "text": [
      "============================================================\n",
      "GRADUAL MAGNITUDE PRUNING RESULTS SUMMARY\n",
      "============================================================\n",
      "\n",
      "Baseline Model:\n",
      "  Accuracy: 90.2%\n",
      "  F1 Score: 90.2%\n",
      "  Size: 255.42 MB\n",
      "  Parameters: 66,955,010\n",
      "\n",
      "Pruned Model (50.0% sparsity):\n",
      "  Accuracy: 90.5%\n",
      "  F1 Score: 90.5%\n",
      "  Size: 255.42 MB (no reduction due to unstructured nature)\n",
      "  Actual Sparsity: 50.0%\n",
      "\n",
      "Performance Impact:\n",
      "  Accuracy change: +0.3% (improved!)\n",
      "  Inference speedup: -1.5% (expected on standard hardware)\n",
      "  Meets 90% accuracy requirement: ✓\n",
      "\n",
      "============================================================\n",
      "TRAINING-TIME vs POST-TRAINING COMPARISON\n",
      "============================================================\n",
      "\n",
      "Post-training pruning (Lesson 2):\n",
      "  • 30% sparsity → 84% accuracy (-6% from baseline)\n",
      "  • 50% sparsity → ~78% accuracy (estimated)\n",
      "  • Immediate application, no retraining needed\n",
      "  • Limited ability to recover performance\n",
      "\n",
      "Gradual magnitude pruning (this demo):\n",
      "  • 50% sparsity → 90.5% accuracy (minimal loss!)\n",
      "  • Requires training time but achieves better compression-accuracy tradeoff\n",
      "  • Model adapts during pruning, redistributing importance\n",
      "\n",
      "🎯 Key Insight: At 50% sparsity, training-time pruning achieved 90.5%\n",
      "   vs estimated ~78% for post-training methods—a 12.5% advantage!\n",
      "\n",
      "============================================================\n",
      "UNDERSTANDING DIFFERENT PRUNING APPROACHES\n",
      "============================================================\n",
      "\n",
      "Unstructured Pruning (what we did):\n",
      "  ✓ Removes individual weights\n",
      "  ✓ Achieves high sparsity with good accuracy\n",
      "  ✗ No immediate speedup on standard hardware\n",
      "  → Best for: Research, sparse-aware deployment\n",
      "\n",
      "Structured Pruning (alternative approach):\n",
      "  ✓ Removes entire channels/neurons/heads\n",
      "  ✓ Immediate speedup on all hardware\n",
      "  ✗ Typically lower accuracy at same sparsity\n",
      "  → Best for: Standard hardware deployment\n",
      "\n",
      "============================================================\n",
      "DEPLOYMENT STRATEGIES\n",
      "============================================================\n",
      "1. **Sparse-aware inference**: Use DeepSparse or TensorRT for actual speedups\n",
      "2. **Hardware selection**: Deploy on devices with sparse tensor support\n",
      "3. **Format conversion**: Export to ONNX with sparse operations enabled\n",
      "4. **Hybrid approach**: Combine with int8 quantization for additional benefits\n",
      "5. **Architecture swap**: Consider structured pruning if hardware lacks sparse support\n",
      "\n",
      "============================================================\n",
      "KEY TAKEAWAYS\n",
      "============================================================\n",
      "• Training-time pruning >> post-training pruning for accuracy retention\n",
      "• Gradual pruning with proper scheduling is crucial for success\n",
      "• Hardware compatibility determines whether you see actual speedups\n",
      "• Unstructured pruning is great for research, structured for deployment\n",
      "• Always validate on your target hardware before committing to an approach\n",
      "\n",
      "============================================================\n",
      "NEXT STEPS FOR YOUR EDGE DEPLOYMENT\n",
      "============================================================\n",
      "1. Experiment with different pruning schedules:\n",
      "   • Try linear vs cubic vs exponential schedules\n",
      "   • Adjust pruning start/end points in training\n",
      "   • Test different target sparsity levels\n",
      "\n",
      "2. Visualize weight distributions and sparsity patterns:\n",
      "   • Create heatmaps showing which layers are most sparse\n",
      "   • Plot weight magnitude distributions before/after pruning\n",
      "   • Analyze attention head importance across layers\n",
      "\n",
      "3. Explore pruning impact on model behavior:\n",
      "   • Test performance on specific sentiment categories\n",
      "   • Identify which review types are most affected\n",
      "   • Analyze failure cases and edge examples\n",
      "\n",
      "4. Export the sparse model for deployment:\n",
      "   • Convert to ONNX format with sparse operators\n",
      "   • Test with DeepSparse or TensorRT inference engines\n",
      "   • Benchmark on actual ARM edge devices\n",
      "   • Integrate with existing application pipeline\n",
      "\n",
      "✨ Remember: Choose the compression technique that matches your\n",
      "   deployment constraints, not just the one with best paper results!\n",
      "============================================================\n"
     ]
    }
   ],
   "source": [
    "# Final summary and recommendations\n",
    "print(\"=\" * 60)\n",
    "print(\"GRADUAL MAGNITUDE PRUNING RESULTS SUMMARY\")\n",
    "print(\"=\" * 60)\n",
    "\n",
    "print(f\"\\nBaseline Model:\")\n",
    "print(f\"  Accuracy: {baseline_results['eval_accuracy']*100:.1f}%\")\n",
    "print(f\"  F1 Score: {baseline_results['eval_f1']*100:.1f}%\")\n",
    "print(f\"  Size: {baseline_size:.2f} MB\")\n",
    "print(f\"  Parameters: {total_params:,}\")\n",
    "\n",
    "print(f\"\\nPruned Model ({target_sparsity*100}% sparsity):\")\n",
    "print(f\"  Accuracy: {pruned_results['eval_accuracy']*100:.1f}%\")\n",
    "print(f\"  F1 Score: {pruned_results['eval_f1']*100:.1f}%\")\n",
    "print(f\"  Size: {pruned_size:.2f} MB (no reduction due to unstructured nature)\")\n",
    "print(f\"  Actual Sparsity: {final_sparsity_after_remove*100:.1f}%\")\n",
    "\n",
    "print(f\"\\nPerformance Impact:\")\n",
    "accuracy_change = pruned_results['eval_accuracy'] - baseline_results['eval_accuracy']\n",
    "if accuracy_change > 0:\n",
    "    print(f\"  Accuracy change: +{accuracy_change*100:.1f}% (improved!)\")\n",
    "else:\n",
    "    print(f\"  Accuracy retained: {100 + accuracy_change*100:.1f}%\")\n",
    "print(f\"  Inference speedup: {speedup:.1f}% (expected on standard hardware)\")\n",
    "print(f\"  Meets 90% accuracy requirement: {'✓' if pruned_results['eval_accuracy'] > 0.90 else '✗'}\")\n",
    "\n",
    "print(\"\\n\" + \"=\" * 60)\n",
    "print(\"TRAINING-TIME vs POST-TRAINING COMPARISON\")\n",
    "print(\"=\" * 60)\n",
    "\n",
    "print(\"\\nPost-training pruning (Lesson 2):\")\n",
    "print(\"  • 30% sparsity → 84% accuracy (-6% from baseline)\")\n",
    "print(\"  • 50% sparsity → ~78% accuracy (estimated)\")\n",
    "print(\"  • Immediate application, no retraining needed\")\n",
    "print(\"  • Limited ability to recover performance\")\n",
    "\n",
    "print(\"\\nGradual magnitude pruning (this demo):\")\n",
    "print(f\"  • 50% sparsity → {pruned_results['eval_accuracy']*100:.1f}% accuracy (minimal loss!)\")\n",
    "print(f\"  • Requires training time but achieves better compression-accuracy tradeoff\")\n",
    "print(f\"  • Model adapts during pruning, redistributing importance\")\n",
    "\n",
    "print(f\"\\n🎯 Key Insight: At 50% sparsity, training-time pruning achieved {pruned_results['eval_accuracy']*100:.1f}%\")\n",
    "print(f\"   vs estimated ~78% for post-training methods—a {(pruned_results['eval_accuracy']*100 - 78):.1f}% advantage!\")\n",
    "\n",
    "print(\"\\n\" + \"=\" * 60)\n",
    "print(\"UNDERSTANDING DIFFERENT PRUNING APPROACHES\")\n",
    "print(\"=\" * 60)\n",
    "\n",
    "print(\"\\nUnstructured Pruning (what we did):\")\n",
    "print(\"  ✓ Removes individual weights\")\n",
    "print(\"  ✓ Achieves high sparsity with good accuracy\")\n",
    "print(\"  ✗ No immediate speedup on standard hardware\")\n",
    "print(\"  → Best for: Research, sparse-aware deployment\")\n",
    "\n",
    "print(\"\\nStructured Pruning (alternative approach):\")\n",
    "print(\"  ✓ Removes entire channels/neurons/heads\")\n",
    "print(\"  ✓ Immediate speedup on all hardware\")\n",
    "print(\"  ✗ Typically lower accuracy at same sparsity\")\n",
    "print(\"  → Best for: Standard hardware deployment\")\n",
    "\n",
    "print(\"\\n\" + \"=\" * 60)\n",
    "print(\"DEPLOYMENT STRATEGIES\")\n",
    "print(\"=\" * 60)\n",
    "\n",
    "deployment_options = [\n",
    "    \"1. **Sparse-aware inference**: Use DeepSparse or TensorRT for actual speedups\",\n",
    "    \"2. **Hardware selection**: Deploy on devices with sparse tensor support\",\n",
    "    \"3. **Format conversion**: Export to ONNX with sparse operations enabled\",\n",
    "    \"4. **Hybrid approach**: Combine with int8 quantization for additional benefits\",\n",
    "    \"5. **Architecture swap**: Consider structured pruning if hardware lacks sparse support\"\n",
    "]\n",
    "\n",
    "for option in deployment_options:\n",
    "    print(option)\n",
    "\n",
    "print(\"\\n\" + \"=\" * 60)\n",
    "print(\"KEY TAKEAWAYS\")\n",
    "print(\"=\" * 60)\n",
    "\n",
    "takeaways = [\n",
    "    \"• Training-time pruning >> post-training pruning for accuracy retention\",\n",
    "    \"• Gradual pruning with proper scheduling is crucial for success\",\n",
    "    \"• Hardware compatibility determines whether you see actual speedups\",\n",
    "    \"• Unstructured pruning is great for research, structured for deployment\",\n",
    "    \"• Always validate on your target hardware before committing to an approach\"\n",
    "]\n",
    "\n",
    "for takeaway in takeaways:\n",
    "    print(takeaway)\n",
    "\n",
    "print(\"\\n\" + \"=\" * 60)\n",
    "print(\"NEXT STEPS FOR YOUR EDGE DEPLOYMENT\")\n",
    "print(\"=\" * 60)\n",
    "\n",
    "next_steps = [\n",
    "    \"1. Experiment with different pruning schedules:\",\n",
    "    \"   • Try linear vs cubic vs exponential schedules\",\n",
    "    \"   • Adjust pruning start/end points in training\",\n",
    "    \"   • Test different target sparsity levels\",\n",
    "    \"\",\n",
    "    \"2. Visualize weight distributions and sparsity patterns:\",\n",
    "    \"   • Create heatmaps showing which layers are most sparse\",\n",
    "    \"   • Plot weight magnitude distributions before/after pruning\",\n",
    "    \"   • Analyze attention head importance across layers\",\n",
    "    \"\",\n",
    "    \"3. Explore pruning impact on model behavior:\",\n",
    "    \"   • Test performance on specific sentiment categories\",\n",
    "    \"   • Identify which review types are most affected\",\n",
    "    \"   • Analyze failure cases and edge examples\",\n",
    "    \"\",\n",
    "    \"4. Export the sparse model for deployment:\",\n",
    "    \"   • Convert to ONNX format with sparse operators\",\n",
    "    \"   • Test with DeepSparse or TensorRT inference engines\",\n",
    "    \"   • Benchmark on actual ARM edge devices\",\n",
    "    \"   • Integrate with existing application pipeline\"\n",
    "]\n",
    "\n",
    "for step in next_steps:\n",
    "    print(step)\n",
    "\n",
    "print(\"\\n✨ Remember: Choose the compression technique that matches your\")\n",
    "print(\"   deployment constraints, not just the one with best paper results!\")\n",
    "print(\"=\" * 60)"
   ]
  }
 ],
 "metadata": {
  "kernelspec": {
   "display_name": "base",
   "language": "python",
   "name": "python3"
  },
  "language_info": {
   "codemirror_mode": {
    "name": "ipython",
    "version": 3
   },
   "file_extension": ".py",
   "mimetype": "text/x-python",
   "name": "python",
   "nbconvert_exporter": "python",
   "pygments_lexer": "ipython3",
   "version": "3.10.14 (main, Mar 21 2024, 16:24:04) [GCC 11.2.0]"
  },
  "vscode": {
   "interpreter": {
    "hash": "d4d1e4263499bec80672ea0156c357c1ee493ec2b1c70f0acce89fc37c4a6abe"
   }
  }
 },
 "nbformat": 4,
 "nbformat_minor": 5
}
